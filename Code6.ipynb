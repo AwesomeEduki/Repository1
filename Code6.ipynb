{
 "cells": [
  {
   "cell_type": "code",
   "execution_count": 1,
   "id": "328677b6",
   "metadata": {},
   "outputs": [
    {
     "name": "stdout",
     "output_type": "stream",
     "text": [
      "('appl', 980)\n",
      "('GOOG', 809)\n",
      "('msft', 2465)\n"
     ]
    }
   ],
   "source": [
    "stock=[('appl',980),('GOOG',809),(\"msft\",2465)]\n",
    "for item in stock:\n",
    "    print(item)"
   ]
  },
  {
   "cell_type": "code",
   "execution_count": 2,
   "id": "0703b1f0",
   "metadata": {},
   "outputs": [
    {
     "name": "stdout",
     "output_type": "stream",
     "text": [
      "1078.0\n",
      "889.9\n",
      "2711.5\n"
     ]
    }
   ],
   "source": [
    "for ticker,price in stock:\n",
    "    print(price+(0.1*price))"
   ]
  },
  {
   "cell_type": "code",
   "execution_count": 3,
   "id": "3bb6a9d8",
   "metadata": {},
   "outputs": [],
   "source": [
    "work_hours = [('Abby',100),('Billy',200),('cassy',800),(\"Dannie\",198)]"
   ]
  },
  {
   "cell_type": "code",
   "execution_count": 4,
   "id": "09133c9a",
   "metadata": {},
   "outputs": [],
   "source": [
    "def employee_check(work_hours):\n",
    "    current_max=0\n",
    "    employee_of_month=''\n",
    "    for employee,hours in work_hours:\n",
    "        if hours > current_max:\n",
    "            current_max = hours\n",
    "            employee_of_month = employee\n",
    "        else:\n",
    "            pass\n",
    "    \n",
    "    \n",
    "    return(employee_of_month,current_max)"
   ]
  },
  {
   "cell_type": "code",
   "execution_count": 5,
   "id": "302dbe04",
   "metadata": {},
   "outputs": [],
   "source": [
    "employee,crazy=employee_check([('Abby',100),('Billy',200),('cassy',800),(\"Dannie\",198)])"
   ]
  },
  {
   "cell_type": "code",
   "execution_count": 6,
   "id": "27803679",
   "metadata": {},
   "outputs": [
    {
     "data": {
      "text/plain": [
       "800"
      ]
     },
     "execution_count": 6,
     "metadata": {},
     "output_type": "execute_result"
    }
   ],
   "source": [
    "crazy"
   ]
  },
  {
   "cell_type": "code",
   "execution_count": 7,
   "id": "519f6fd2",
   "metadata": {},
   "outputs": [
    {
     "data": {
      "text/plain": [
       "super"
      ]
     },
     "execution_count": 7,
     "metadata": {},
     "output_type": "execute_result"
    }
   ],
   "source": [
    "super"
   ]
  },
  {
   "cell_type": "code",
   "execution_count": 8,
   "id": "c844bdb9",
   "metadata": {},
   "outputs": [
    {
     "data": {
      "text/plain": [
       "<function __main__.employee_check(work_hours)>"
      ]
     },
     "execution_count": 8,
     "metadata": {},
     "output_type": "execute_result"
    }
   ],
   "source": [
    "employee_check"
   ]
  },
  {
   "cell_type": "code",
   "execution_count": 9,
   "id": "0cadab03",
   "metadata": {},
   "outputs": [],
   "source": [
    "def num(num1):\n",
    "    if num1>0:\n",
    "        return num1 + num(num1-1)\n",
    "    else:\n",
    "        return 1-1"
   ]
  },
  {
   "cell_type": "code",
   "execution_count": 10,
   "id": "d3373d1c",
   "metadata": {},
   "outputs": [
    {
     "data": {
      "text/plain": [
       "55"
      ]
     },
     "execution_count": 10,
     "metadata": {},
     "output_type": "execute_result"
    }
   ],
   "source": [
    "num(10)"
   ]
  },
  {
   "cell_type": "code",
   "execution_count": 11,
   "id": "27fd3830",
   "metadata": {},
   "outputs": [],
   "source": [
    "list1=[\"\",\"O\",\"\"]\n",
    "import random"
   ]
  },
  {
   "cell_type": "code",
   "execution_count": 12,
   "id": "af7ccfcb",
   "metadata": {},
   "outputs": [],
   "source": [
    "random.shuffle(list1)"
   ]
  },
  {
   "cell_type": "code",
   "execution_count": 13,
   "id": "e2754e74",
   "metadata": {},
   "outputs": [
    {
     "data": {
      "text/plain": [
       "['', 'O', '']"
      ]
     },
     "execution_count": 13,
     "metadata": {},
     "output_type": "execute_result"
    }
   ],
   "source": [
    "list1"
   ]
  },
  {
   "cell_type": "code",
   "execution_count": 14,
   "id": "3d23c138",
   "metadata": {},
   "outputs": [],
   "source": [
    "def shuffle_list(mylist):\n",
    "    random.shuffle(mylist)\n",
    "    return mylist"
   ]
  },
  {
   "cell_type": "code",
   "execution_count": 15,
   "id": "61fa570b",
   "metadata": {},
   "outputs": [
    {
     "data": {
      "text/plain": [
       "['', '', 'O']"
      ]
     },
     "execution_count": 15,
     "metadata": {},
     "output_type": "execute_result"
    }
   ],
   "source": [
    "shuffle_list(list1)"
   ]
  },
  {
   "cell_type": "code",
   "execution_count": 16,
   "id": "cba4180a",
   "metadata": {},
   "outputs": [],
   "source": [
    "def player_guess():\n",
    "    guess=''\n",
    "    while guess not in [\"0\",\"1\",\"2\"]:\n",
    "        guess=input(\"Pick a number: 0,1, or 2\")\n",
    "    return int(guess)    "
   ]
  },
  {
   "cell_type": "code",
   "execution_count": 17,
   "id": "298e7e06",
   "metadata": {},
   "outputs": [
    {
     "name": "stdout",
     "output_type": "stream",
     "text": [
      "Pick a number: 0,1, or 20\n"
     ]
    },
    {
     "data": {
      "text/plain": [
       "0"
      ]
     },
     "execution_count": 17,
     "metadata": {},
     "output_type": "execute_result"
    }
   ],
   "source": [
    "player_guess()"
   ]
  },
  {
   "cell_type": "code",
   "execution_count": 18,
   "id": "256a62df",
   "metadata": {},
   "outputs": [
    {
     "name": "stdout",
     "output_type": "stream",
     "text": [
      "Pick a number: 0,1, or 20\n"
     ]
    }
   ],
   "source": [
    "myindex=player_guess()\n"
   ]
  },
  {
   "cell_type": "code",
   "execution_count": 19,
   "id": "81f6aff7",
   "metadata": {},
   "outputs": [],
   "source": [
    "def check_guess(mylist,guess):\n",
    "    if mylist[guess]==\"O\":\n",
    "        return \"YAY\"\n",
    "    else:\n",
    "        return \"nope\""
   ]
  },
  {
   "cell_type": "code",
   "execution_count": 20,
   "id": "cdc6a257",
   "metadata": {},
   "outputs": [
    {
     "name": "stdout",
     "output_type": "stream",
     "text": [
      "Pick a number: 0,1, or 20\n"
     ]
    },
    {
     "data": {
      "text/plain": [
       "'nope'"
      ]
     },
     "execution_count": 20,
     "metadata": {},
     "output_type": "execute_result"
    }
   ],
   "source": [
    "random.shuffle(list1)\n",
    "check_guess(list1,player_guess())"
   ]
  },
  {
   "cell_type": "code",
   "execution_count": 21,
   "id": "12c2ff02",
   "metadata": {},
   "outputs": [
    {
     "data": {
      "text/plain": [
       "['', '', 'O']"
      ]
     },
     "execution_count": 21,
     "metadata": {},
     "output_type": "execute_result"
    }
   ],
   "source": [
    "list1"
   ]
  },
  {
   "cell_type": "code",
   "execution_count": 22,
   "id": "dbaf0e97",
   "metadata": {},
   "outputs": [
    {
     "name": "stdout",
     "output_type": "stream",
     "text": [
      "going\n",
      "going\n",
      "going\n",
      "going\n",
      "going\n",
      "going\n"
     ]
    }
   ],
   "source": [
    "while True:\n",
    "    if random.randint(1,10)==random.randint(1,10):\n",
    "        break\n",
    "    else:\n",
    "        print(\"going\")"
   ]
  },
  {
   "cell_type": "code",
   "execution_count": 23,
   "id": "80f672ef",
   "metadata": {},
   "outputs": [
    {
     "data": {
      "text/plain": [
       "16"
      ]
     },
     "execution_count": 23,
     "metadata": {},
     "output_type": "execute_result"
    }
   ],
   "source": [
    "2**2**2"
   ]
  },
  {
   "cell_type": "code",
   "execution_count": 24,
   "id": "61ada361",
   "metadata": {},
   "outputs": [
    {
     "data": {
      "text/plain": [
       "8"
      ]
     },
     "execution_count": 24,
     "metadata": {},
     "output_type": "execute_result"
    }
   ],
   "source": [
    "2**3"
   ]
  },
  {
   "cell_type": "code",
   "execution_count": 25,
   "id": "748ddd7a",
   "metadata": {},
   "outputs": [
    {
     "data": {
      "text/plain": [
       "super"
      ]
     },
     "execution_count": 25,
     "metadata": {},
     "output_type": "execute_result"
    }
   ],
   "source": [
    "super\n",
    "\n",
    "\n",
    "\n"
   ]
  },
  {
   "cell_type": "code",
   "execution_count": 26,
   "id": "3a74c9c9",
   "metadata": {},
   "outputs": [
    {
     "data": {
      "text/plain": [
       "1607472"
      ]
     },
     "execution_count": 26,
     "metadata": {},
     "output_type": "execute_result"
    }
   ],
   "source": [
    "(61**2)*(3**3)*(2**4)"
   ]
  },
  {
   "cell_type": "code",
   "execution_count": 27,
   "id": "e42ed973",
   "metadata": {},
   "outputs": [],
   "source": [
    "import chris as chris"
   ]
  },
  {
   "cell_type": "code",
   "execution_count": 28,
   "id": "8123b700",
   "metadata": {},
   "outputs": [
    {
     "data": {
      "text/plain": [
       "46"
      ]
     },
     "execution_count": 28,
     "metadata": {},
     "output_type": "execute_result"
    }
   ],
   "source": [
    "chris.num(9)"
   ]
  },
  {
   "cell_type": "code",
   "execution_count": 29,
   "id": "672d5a55",
   "metadata": {},
   "outputs": [],
   "source": [
    "crazy=[('A',12),(\"B\",6),('C',17),('D',15)]"
   ]
  },
  {
   "cell_type": "code",
   "execution_count": 30,
   "id": "f9ef8f67",
   "metadata": {},
   "outputs": [
    {
     "data": {
      "text/plain": [
       "11"
      ]
     },
     "execution_count": 30,
     "metadata": {},
     "output_type": "execute_result"
    }
   ],
   "source": [
    "chris.num(len(crazy))\n"
   ]
  },
  {
   "cell_type": "code",
   "execution_count": 31,
   "id": "bd2331b2",
   "metadata": {},
   "outputs": [
    {
     "data": {
      "text/plain": [
       "4"
      ]
     },
     "execution_count": 31,
     "metadata": {},
     "output_type": "execute_result"
    }
   ],
   "source": [
    "len(crazy)"
   ]
  },
  {
   "cell_type": "code",
   "execution_count": 32,
   "id": "9fecb942",
   "metadata": {},
   "outputs": [
    {
     "data": {
      "text/plain": [
       "('C', 17)"
      ]
     },
     "execution_count": 32,
     "metadata": {},
     "output_type": "execute_result"
    }
   ],
   "source": [
    "employee_check(crazy)"
   ]
  },
  {
   "cell_type": "code",
   "execution_count": 33,
   "id": "61e62d7c",
   "metadata": {},
   "outputs": [],
   "source": [
    "a=[]\n",
    "for s1,s2 in crazy: \n",
    "    #😝\n",
    "    a.append(s2)"
   ]
  },
  {
   "cell_type": "code",
   "execution_count": 34,
   "id": "edb1dc8a",
   "metadata": {},
   "outputs": [
    {
     "data": {
      "text/plain": [
       "[12, 6, 17, 15]"
      ]
     },
     "execution_count": 34,
     "metadata": {},
     "output_type": "execute_result"
    }
   ],
   "source": [
    "a"
   ]
  },
  {
   "cell_type": "code",
   "execution_count": 35,
   "id": "1b706dc6",
   "metadata": {},
   "outputs": [
    {
     "name": "stdout",
     "output_type": "stream",
     "text": [
      "('A', 12)\n",
      "('B', 6)\n",
      "('C', 17)\n",
      "('D', 15)\n"
     ]
    }
   ],
   "source": [
    "for i in crazy:\n",
    "    print(i)"
   ]
  },
  {
   "cell_type": "code",
   "execution_count": 36,
   "id": "e324b6c7",
   "metadata": {},
   "outputs": [],
   "source": [
    "i=list(i)"
   ]
  },
  {
   "cell_type": "code",
   "execution_count": 37,
   "id": "61ec9894",
   "metadata": {},
   "outputs": [
    {
     "data": {
      "text/plain": [
       "['D', 15]"
      ]
     },
     "execution_count": 37,
     "metadata": {},
     "output_type": "execute_result"
    }
   ],
   "source": [
    "i"
   ]
  },
  {
   "cell_type": "code",
   "execution_count": 38,
   "id": "5f836f08",
   "metadata": {},
   "outputs": [],
   "source": [
    "i=tuple(i)"
   ]
  },
  {
   "cell_type": "code",
   "execution_count": 39,
   "id": "2ad7fa7e",
   "metadata": {},
   "outputs": [],
   "source": [
    "i=[('D',15)]"
   ]
  },
  {
   "cell_type": "code",
   "execution_count": 40,
   "id": "9df939c3",
   "metadata": {},
   "outputs": [
    {
     "name": "stdout",
     "output_type": "stream",
     "text": [
      "D\n"
     ]
    }
   ],
   "source": [
    "for s1,s2 in i:\n",
    "    print(s1)"
   ]
  },
  {
   "cell_type": "code",
   "execution_count": 41,
   "id": "ee8c01cd",
   "metadata": {},
   "outputs": [],
   "source": [
    "i=list(tuple(i))"
   ]
  },
  {
   "cell_type": "code",
   "execution_count": 42,
   "id": "18c4e30d",
   "metadata": {},
   "outputs": [
    {
     "data": {
      "text/plain": [
       "[('D', 15)]"
      ]
     },
     "execution_count": 42,
     "metadata": {},
     "output_type": "execute_result"
    }
   ],
   "source": [
    "i"
   ]
  },
  {
   "cell_type": "code",
   "execution_count": 43,
   "id": "fa0a5529",
   "metadata": {},
   "outputs": [
    {
     "name": "stdout",
     "output_type": "stream",
     "text": [
      "('A', 12)\n",
      "('B', 6)\n",
      "('C', 17)\n",
      "('D', 15)\n"
     ]
    }
   ],
   "source": [
    "for i in crazy:\n",
    "    print(i)"
   ]
  },
  {
   "cell_type": "code",
   "execution_count": 44,
   "id": "93cb0ef2",
   "metadata": {},
   "outputs": [
    {
     "data": {
      "text/plain": [
       "('D', 15)"
      ]
     },
     "execution_count": 44,
     "metadata": {},
     "output_type": "execute_result"
    }
   ],
   "source": [
    "i"
   ]
  },
  {
   "cell_type": "code",
   "execution_count": 45,
   "id": "afa7b7d6",
   "metadata": {},
   "outputs": [],
   "source": [
    "j=i\n",
    "i=[]\n",
    "i.append(j)"
   ]
  },
  {
   "cell_type": "code",
   "execution_count": 46,
   "id": "26ccec31",
   "metadata": {},
   "outputs": [
    {
     "name": "stdout",
     "output_type": "stream",
     "text": [
      "D\n"
     ]
    }
   ],
   "source": [
    "for s1,s2 in i:\n",
    "    print(s1)"
   ]
  },
  {
   "cell_type": "code",
   "execution_count": 47,
   "id": "ed454cca",
   "metadata": {},
   "outputs": [
    {
     "data": {
      "text/plain": [
       "{(1, 2), (3, 4)}"
      ]
     },
     "execution_count": 47,
     "metadata": {},
     "output_type": "execute_result"
    }
   ],
   "source": [
    "set(((1,2),(3,4),(1,2)))"
   ]
  },
  {
   "cell_type": "code",
   "execution_count": 48,
   "id": "99c37cb1",
   "metadata": {},
   "outputs": [
    {
     "data": {
      "text/plain": [
       "4"
      ]
     },
     "execution_count": 48,
     "metadata": {},
     "output_type": "execute_result"
    }
   ],
   "source": [
    "6 and 5 and 4"
   ]
  },
  {
   "cell_type": "code",
   "execution_count": 49,
   "id": "1d10d5f5",
   "metadata": {},
   "outputs": [
    {
     "data": {
      "text/plain": [
       "6"
      ]
     },
     "execution_count": 49,
     "metadata": {},
     "output_type": "execute_result"
    }
   ],
   "source": [
    "4 and 5 and 6"
   ]
  },
  {
   "cell_type": "code",
   "execution_count": 50,
   "id": "19bf7e29",
   "metadata": {},
   "outputs": [
    {
     "data": {
      "text/plain": [
       "5"
      ]
     },
     "execution_count": 50,
     "metadata": {},
     "output_type": "execute_result"
    }
   ],
   "source": [
    "4 and (5 or 6)"
   ]
  },
  {
   "cell_type": "code",
   "execution_count": 51,
   "id": "2c013e51",
   "metadata": {},
   "outputs": [
    {
     "data": {
      "text/plain": [
       "0"
      ]
     },
     "execution_count": 51,
     "metadata": {},
     "output_type": "execute_result"
    }
   ],
   "source": [
    "0 and 1"
   ]
  },
  {
   "cell_type": "code",
   "execution_count": 52,
   "id": "b30f194a",
   "metadata": {},
   "outputs": [
    {
     "data": {
      "text/plain": [
       "2"
      ]
     },
     "execution_count": 52,
     "metadata": {},
     "output_type": "execute_result"
    }
   ],
   "source": [
    "2"
   ]
  },
  {
   "cell_type": "code",
   "execution_count": 53,
   "id": "24dab6c3",
   "metadata": {},
   "outputs": [
    {
     "data": {
      "text/plain": [
       "4"
      ]
     },
     "execution_count": 53,
     "metadata": {},
     "output_type": "execute_result"
    }
   ],
   "source": [
    "4 or 5 or 56"
   ]
  },
  {
   "cell_type": "code",
   "execution_count": 54,
   "id": "ac9df5bc",
   "metadata": {},
   "outputs": [
    {
     "data": {
      "text/plain": [
       "6"
      ]
     },
     "execution_count": 54,
     "metadata": {},
     "output_type": "execute_result"
    }
   ],
   "source": [
    "6 or 5 or 4"
   ]
  },
  {
   "cell_type": "code",
   "execution_count": 55,
   "id": "487d389b",
   "metadata": {},
   "outputs": [
    {
     "data": {
      "text/plain": [
       "16"
      ]
     },
     "execution_count": 55,
     "metadata": {},
     "output_type": "execute_result"
    }
   ],
   "source": [
    "2**((4 or 5) or 6)"
   ]
  },
  {
   "cell_type": "code",
   "execution_count": 56,
   "id": "75b83f96",
   "metadata": {},
   "outputs": [
    {
     "data": {
      "text/plain": [
       "2"
      ]
     },
     "execution_count": 56,
     "metadata": {},
     "output_type": "execute_result"
    }
   ],
   "source": [
    "2**True\n"
   ]
  },
  {
   "cell_type": "code",
   "execution_count": 57,
   "id": "d18f68df",
   "metadata": {},
   "outputs": [
    {
     "data": {
      "text/plain": [
       "1"
      ]
     },
     "execution_count": 57,
     "metadata": {},
     "output_type": "execute_result"
    }
   ],
   "source": [
    "2**0"
   ]
  },
  {
   "cell_type": "code",
   "execution_count": 58,
   "id": "2c54a51f",
   "metadata": {},
   "outputs": [
    {
     "data": {
      "text/plain": [
       "1"
      ]
     },
     "execution_count": 58,
     "metadata": {},
     "output_type": "execute_result"
    }
   ],
   "source": [
    "2**False"
   ]
  },
  {
   "cell_type": "code",
   "execution_count": 59,
   "id": "3854afc1",
   "metadata": {},
   "outputs": [
    {
     "data": {
      "text/plain": [
       "1"
      ]
     },
     "execution_count": 59,
     "metadata": {},
     "output_type": "execute_result"
    }
   ],
   "source": [
    "0+False+True+False"
   ]
  },
  {
   "cell_type": "code",
   "execution_count": 60,
   "id": "2b792006",
   "metadata": {},
   "outputs": [],
   "source": [
    "a=10010101\n",
    "import numpy as np"
   ]
  },
  {
   "cell_type": "code",
   "execution_count": 61,
   "id": "09f4fa61",
   "metadata": {},
   "outputs": [
    {
     "name": "stdout",
     "output_type": "stream",
     "text": [
      "0\n",
      "3\n",
      "5\n",
      "7\n"
     ]
    }
   ],
   "source": [
    "b=0\n",
    "for i in range (len(str(a))):\n",
    "    if str(a)[i]=='1':\n",
    "        b+=(2**(len(str(a))-i-1))\n",
    "        print(i)"
   ]
  },
  {
   "cell_type": "code",
   "execution_count": 62,
   "id": "1604ab27",
   "metadata": {},
   "outputs": [
    {
     "data": {
      "text/plain": [
       "149"
      ]
     },
     "execution_count": 62,
     "metadata": {},
     "output_type": "execute_result"
    }
   ],
   "source": [
    "b"
   ]
  },
  {
   "cell_type": "code",
   "execution_count": 63,
   "id": "b303afc6",
   "metadata": {},
   "outputs": [
    {
     "data": {
      "text/plain": [
       "7"
      ]
     },
     "execution_count": 63,
     "metadata": {},
     "output_type": "execute_result"
    }
   ],
   "source": [
    "i"
   ]
  },
  {
   "cell_type": "code",
   "execution_count": 64,
   "id": "e415edf2",
   "metadata": {},
   "outputs": [
    {
     "data": {
      "text/plain": [
       "'0'"
      ]
     },
     "execution_count": 64,
     "metadata": {},
     "output_type": "execute_result"
    }
   ],
   "source": [
    "str(a)[6]"
   ]
  },
  {
   "cell_type": "code",
   "execution_count": 65,
   "id": "a3b20a2e",
   "metadata": {},
   "outputs": [
    {
     "data": {
      "text/plain": [
       "74"
      ]
     },
     "execution_count": 65,
     "metadata": {},
     "output_type": "execute_result"
    }
   ],
   "source": [
    "2+8+64"
   ]
  },
  {
   "cell_type": "code",
   "execution_count": 66,
   "id": "1d4d69a2",
   "metadata": {},
   "outputs": [
    {
     "data": {
      "text/plain": [
       "8"
      ]
     },
     "execution_count": 66,
     "metadata": {},
     "output_type": "execute_result"
    }
   ],
   "source": [
    "len(str(a))"
   ]
  },
  {
   "cell_type": "code",
   "execution_count": 67,
   "id": "a93f290e",
   "metadata": {},
   "outputs": [
    {
     "data": {
      "text/plain": [
       "149"
      ]
     },
     "execution_count": 67,
     "metadata": {},
     "output_type": "execute_result"
    }
   ],
   "source": [
    "1+4+16+128"
   ]
  },
  {
   "cell_type": "code",
   "execution_count": null,
   "id": "e54be28e",
   "metadata": {},
   "outputs": [],
   "source": [
    "def dectobin(a):    \n",
    "    b=0\n",
    "    for i in range (len(str(a))):\n",
    "        if str(a)[i]=='1':\n",
    "            b+=(2**(len(str(a))-i-1))\n",
    "    return b        "
   ]
  }
 ],
 "metadata": {
  "kernelspec": {
   "display_name": "Python 3 (ipykernel)",
   "language": "python",
   "name": "python3"
  },
  "language_info": {
   "codemirror_mode": {
    "name": "ipython",
    "version": 3
   },
   "file_extension": ".py",
   "mimetype": "text/x-python",
   "name": "python",
   "nbconvert_exporter": "python",
   "pygments_lexer": "ipython3",
   "version": "3.9.12"
  }
 },
 "nbformat": 4,
 "nbformat_minor": 5
}
