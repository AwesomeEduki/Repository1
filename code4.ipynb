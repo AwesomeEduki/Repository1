{
 "cells": [
  {
   "cell_type": "code",
   "execution_count": 1,
   "id": "b231ba00",
   "metadata": {},
   "outputs": [],
   "source": [
    "import random as rand"
   ]
  },
  {
   "cell_type": "code",
   "execution_count": 2,
   "id": "65b93634",
   "metadata": {},
   "outputs": [
    {
     "data": {
      "text/plain": [
       "5"
      ]
     },
     "execution_count": 2,
     "metadata": {},
     "output_type": "execute_result"
    }
   ],
   "source": [
    "rand.randint(1,5)"
   ]
  },
  {
   "cell_type": "code",
   "execution_count": 3,
   "id": "2a7a9764",
   "metadata": {},
   "outputs": [],
   "source": [
    "a=[]\n",
    "for i in range(100):\n",
    "    a.append(rand.randint(1,10))"
   ]
  },
  {
   "cell_type": "code",
   "execution_count": 4,
   "id": "20f84234",
   "metadata": {},
   "outputs": [
    {
     "data": {
      "text/plain": [
       "[3,\n",
       " 8,\n",
       " 7,\n",
       " 6,\n",
       " 5,\n",
       " 2,\n",
       " 1,\n",
       " 6,\n",
       " 9,\n",
       " 10,\n",
       " 4,\n",
       " 8,\n",
       " 1,\n",
       " 9,\n",
       " 9,\n",
       " 7,\n",
       " 10,\n",
       " 1,\n",
       " 6,\n",
       " 7,\n",
       " 8,\n",
       " 2,\n",
       " 10,\n",
       " 7,\n",
       " 6,\n",
       " 6,\n",
       " 8,\n",
       " 7,\n",
       " 6,\n",
       " 7,\n",
       " 4,\n",
       " 10,\n",
       " 2,\n",
       " 5,\n",
       " 4,\n",
       " 4,\n",
       " 1,\n",
       " 10,\n",
       " 5,\n",
       " 8,\n",
       " 1,\n",
       " 8,\n",
       " 9,\n",
       " 1,\n",
       " 2,\n",
       " 8,\n",
       " 9,\n",
       " 6,\n",
       " 4,\n",
       " 3,\n",
       " 7,\n",
       " 7,\n",
       " 9,\n",
       " 5,\n",
       " 3,\n",
       " 10,\n",
       " 5,\n",
       " 6,\n",
       " 6,\n",
       " 2,\n",
       " 8,\n",
       " 8,\n",
       " 5,\n",
       " 2,\n",
       " 3,\n",
       " 1,\n",
       " 6,\n",
       " 7,\n",
       " 6,\n",
       " 8,\n",
       " 10,\n",
       " 6,\n",
       " 6,\n",
       " 7,\n",
       " 9,\n",
       " 3,\n",
       " 6,\n",
       " 6,\n",
       " 9,\n",
       " 3,\n",
       " 6,\n",
       " 8,\n",
       " 8,\n",
       " 9,\n",
       " 9,\n",
       " 7,\n",
       " 7,\n",
       " 7,\n",
       " 3,\n",
       " 7,\n",
       " 5,\n",
       " 4,\n",
       " 7,\n",
       " 2,\n",
       " 4,\n",
       " 8,\n",
       " 10,\n",
       " 7,\n",
       " 7,\n",
       " 7]"
      ]
     },
     "execution_count": 4,
     "metadata": {},
     "output_type": "execute_result"
    }
   ],
   "source": [
    "a"
   ]
  },
  {
   "cell_type": "code",
   "execution_count": 5,
   "id": "59194e40",
   "metadata": {},
   "outputs": [
    {
     "data": {
      "text/plain": [
       "{1, 2, 3, 4, 5, 6, 7, 8, 9, 10}"
      ]
     },
     "execution_count": 5,
     "metadata": {},
     "output_type": "execute_result"
    }
   ],
   "source": [
    "set(a)"
   ]
  },
  {
   "cell_type": "code",
   "execution_count": 6,
   "id": "73bf7c2d",
   "metadata": {},
   "outputs": [
    {
     "data": {
      "text/plain": [
       "'yellow'"
      ]
     },
     "execution_count": 6,
     "metadata": {},
     "output_type": "execute_result"
    }
   ],
   "source": [
    "d1={\"k1\":[5,6,{\"tough\":\"super\",\"k2\":[1,2]},{3:4,\"k3\":[\"super\",\"yellow\"]}]}\n",
    "#finding yellow\n",
    "d1[\"k1\"][3][\"k3\"][1]"
   ]
  },
  {
   "cell_type": "code",
   "execution_count": 7,
   "id": "b87d9814",
   "metadata": {},
   "outputs": [],
   "source": [
    "w=[\"2\",\"4\",\"6\",\"8\"]"
   ]
  },
  {
   "cell_type": "code",
   "execution_count": 8,
   "id": "c884f7b2",
   "metadata": {},
   "outputs": [
    {
     "data": {
      "text/plain": [
       "'6'"
      ]
     },
     "execution_count": 8,
     "metadata": {},
     "output_type": "execute_result"
    }
   ],
   "source": [
    "w[2]"
   ]
  },
  {
   "cell_type": "code",
   "execution_count": 9,
   "id": "43b6644c",
   "metadata": {},
   "outputs": [
    {
     "data": {
      "text/plain": [
       "'2'"
      ]
     },
     "execution_count": 9,
     "metadata": {},
     "output_type": "execute_result"
    }
   ],
   "source": [
    "w[0]"
   ]
  },
  {
   "cell_type": "code",
   "execution_count": 10,
   "id": "34749695",
   "metadata": {},
   "outputs": [
    {
     "data": {
      "text/plain": [
       "'4'"
      ]
     },
     "execution_count": 10,
     "metadata": {},
     "output_type": "execute_result"
    }
   ],
   "source": [
    "w[1]"
   ]
  },
  {
   "cell_type": "code",
   "execution_count": 11,
   "id": "1a1b2ae6",
   "metadata": {},
   "outputs": [],
   "source": [
    "w.append((4*2)+2)"
   ]
  },
  {
   "cell_type": "code",
   "execution_count": 12,
   "id": "95879408",
   "metadata": {},
   "outputs": [
    {
     "data": {
      "text/plain": [
       "['2', '4', '6', '8', 10]"
      ]
     },
     "execution_count": 12,
     "metadata": {},
     "output_type": "execute_result"
    }
   ],
   "source": [
    "w"
   ]
  },
  {
   "cell_type": "code",
   "execution_count": 13,
   "id": "32295a7d",
   "metadata": {},
   "outputs": [],
   "source": [
    "w=[]"
   ]
  },
  {
   "cell_type": "code",
   "execution_count": 14,
   "id": "cefa3014",
   "metadata": {},
   "outputs": [],
   "source": [
    "for i in range (20):\n",
    "    w.append((i*2)+2)"
   ]
  },
  {
   "cell_type": "code",
   "execution_count": 15,
   "id": "58e56ada",
   "metadata": {},
   "outputs": [
    {
     "data": {
      "text/plain": [
       "[2, 4, 6, 8, 10, 12, 14, 16, 18, 20, 22, 24, 26, 28, 30, 32, 34, 36, 38, 40]"
      ]
     },
     "execution_count": 15,
     "metadata": {},
     "output_type": "execute_result"
    }
   ],
   "source": [
    "w"
   ]
  },
  {
   "cell_type": "code",
   "execution_count": 16,
   "id": "213e096a",
   "metadata": {},
   "outputs": [],
   "source": [
    "import numpy as np"
   ]
  },
  {
   "cell_type": "code",
   "execution_count": 17,
   "id": "13061709",
   "metadata": {},
   "outputs": [
    {
     "name": "stdout",
     "output_type": "stream",
     "text": [
      "Elapsed 63.060903999999994 seconds.\n"
     ]
    }
   ],
   "source": [
    "import time\n",
    "\n",
    "t = time.process_time()\n",
    "for i in range (1,1000000):\n",
    "    a=[]\n",
    "    for j in range (1,int(np.sqrt(i))+1):\n",
    "        if i%j==0:\n",
    "            a.append(\"1\")\n",
    "    if len(a)==1:\n",
    "        #print(i)\n",
    "        pass\n",
    "print(f\"Elapsed {time.process_time() - t} seconds.\")"
   ]
  },
  {
   "cell_type": "code",
   "execution_count": 18,
   "id": "ab3c4d10",
   "metadata": {},
   "outputs": [
    {
     "name": "stdout",
     "output_type": "stream",
     "text": [
      "999995 numbers: Chris 41.601594000000006 seconds, Drew 2.8255339999999904 seconds, Internet 0.002746999999999389 seconds.\n",
      "999996 numbers: Chris 86.14041100000001 seconds, Drew 2.8650049999999965 seconds, Internet 0.001842999999979611 seconds.\n",
      "999997 numbers: Chris 130.657133 seconds, Drew 2.8213460000000055 seconds, Internet 0.0017780000000016116 seconds.\n",
      "999998 numbers: Chris 175.32594999999998 seconds, Drew 2.855322000000001 seconds, Internet 0.002079000000009046 seconds.\n",
      "999999 numbers: Chris 219.98380099999997 seconds, Drew 2.8488660000000436 seconds, Internet 0.0017869999999788888 seconds.\n"
     ]
    }
   ],
   "source": [
    "import numpy as np\n",
    "import time\n",
    "\n",
    "def chris_prime(k):\n",
    "    for i in range (2,k):\n",
    "        a=[]\n",
    "        for j in range (1,int(np.sqrt(i))+1):\n",
    "            if i%j==0:\n",
    "                a.append(\"1\")\n",
    "        if len(a)==1:\n",
    "            #print(i)\n",
    "            pass\n",
    "        \n",
    "def drew_prime(k):\n",
    "    a = []\n",
    "    last = 1\n",
    "    for i in range (2,k):\n",
    "        notprime = False\n",
    "        for j in a:\n",
    "            if (j >= int(np.sqrt(i))+1) or (i%j==0):\n",
    "                notprime = True\n",
    "                break;\n",
    "        if not notprime:\n",
    "            if (last + 2) == i:\n",
    "                pass\n",
    "                #print(f\"{i} twin of {last}\")\n",
    "            else:\n",
    "                pass\n",
    "                #print(f\"{i}\")\n",
    "            a.append(i)\n",
    "            last = i\n",
    "            \n",
    "def primesfrom2to(n):\n",
    "    \"\"\" Input n>=6, Returns a array of primes, 2 <= p < n \"\"\"\n",
    "    sieve = np.ones(n//3 + (n%6==2), dtype=bool)\n",
    "    for i in range(1,int(n**0.5)//3+1):\n",
    "        if sieve[i]:\n",
    "            k=3*i+1|1\n",
    "            sieve[       k*k//3     ::2*k] = False\n",
    "            sieve[k*(k-2*(i&1)+4)//3::2*k] = False\n",
    "    return np.r_[2,3,((3*np.nonzero(sieve)[0][1:]+1)|1)]\n",
    "\n",
    "t = time.process_time()\n",
    "for k in range (999995,1000000):\n",
    "    chris_prime(k)\n",
    "    t1 = time.process_time()\n",
    "    drew_prime(k)\n",
    "    t2 = time.process_time()\n",
    "    primesfrom2to(k)\n",
    "    t3 = time.process_time()\n",
    "    print(f\"{k} numbers: Chris {t1-t} seconds, Drew {t2-t1} seconds, Internet {t3-t2} seconds.\")"
   ]
  },
  {
   "cell_type": "code",
   "execution_count": 19,
   "id": "c607b606",
   "metadata": {},
   "outputs": [
    {
     "data": {
      "text/plain": [
       "4"
      ]
     },
     "execution_count": 19,
     "metadata": {},
     "output_type": "execute_result"
    }
   ],
   "source": [
    "2**2"
   ]
  },
  {
   "cell_type": "code",
   "execution_count": 20,
   "id": "b968fcf8",
   "metadata": {},
   "outputs": [
    {
     "data": {
      "text/plain": [
       "27"
      ]
     },
     "execution_count": 20,
     "metadata": {},
     "output_type": "execute_result"
    }
   ],
   "source": [
    "3**3"
   ]
  },
  {
   "cell_type": "code",
   "execution_count": 21,
   "id": "7fcbf46f",
   "metadata": {},
   "outputs": [
    {
     "name": "stdout",
     "output_type": "stream",
     "text": [
      "1\n",
      "0\n",
      "0\n",
      "0\n",
      "0\n",
      "0\n",
      "0\n",
      "0\n",
      "0\n",
      "0\n",
      "1\n",
      "1\n",
      "1\n",
      "1\n",
      "1\n",
      "1\n",
      "1\n",
      "1\n",
      "1\n",
      "1\n",
      "1\n",
      "2\n",
      "4\n",
      "8\n",
      "16\n",
      "32\n",
      "64\n",
      "128\n",
      "256\n",
      "512\n",
      "1\n",
      "3\n",
      "9\n",
      "27\n",
      "81\n",
      "243\n",
      "729\n",
      "2187\n",
      "6561\n",
      "19683\n",
      "1\n",
      "4\n",
      "16\n",
      "64\n",
      "256\n",
      "1024\n",
      "4096\n",
      "16384\n",
      "65536\n",
      "262144\n",
      "1\n",
      "5\n",
      "25\n",
      "125\n",
      "625\n",
      "3125\n",
      "15625\n",
      "78125\n",
      "390625\n",
      "1953125\n",
      "1\n",
      "6\n",
      "36\n",
      "216\n",
      "1296\n",
      "7776\n",
      "46656\n",
      "279936\n",
      "1679616\n",
      "10077696\n",
      "1\n",
      "7\n",
      "49\n",
      "343\n",
      "2401\n",
      "16807\n",
      "117649\n",
      "823543\n",
      "5764801\n",
      "40353607\n",
      "1\n",
      "8\n",
      "64\n",
      "512\n",
      "4096\n",
      "32768\n",
      "262144\n",
      "2097152\n",
      "16777216\n",
      "134217728\n",
      "1\n",
      "9\n",
      "81\n",
      "729\n",
      "6561\n",
      "59049\n",
      "531441\n",
      "4782969\n",
      "43046721\n",
      "387420489\n"
     ]
    }
   ],
   "source": [
    "for i in range (10):\n",
    "    for j in range (10):\n",
    "        print(i**j)\n",
    "        "
   ]
  },
  {
   "cell_type": "code",
   "execution_count": null,
   "id": "0051fc2a",
   "metadata": {},
   "outputs": [],
   "source": []
  }
 ],
 "metadata": {
  "kernelspec": {
   "display_name": "Python 3 (ipykernel)",
   "language": "python",
   "name": "python3"
  },
  "language_info": {
   "codemirror_mode": {
    "name": "ipython",
    "version": 3
   },
   "file_extension": ".py",
   "mimetype": "text/x-python",
   "name": "python",
   "nbconvert_exporter": "python",
   "pygments_lexer": "ipython3",
   "version": "3.9.12"
  }
 },
 "nbformat": 4,
 "nbformat_minor": 5
}
