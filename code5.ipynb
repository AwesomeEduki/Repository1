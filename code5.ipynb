{
 "cells": [
  {
   "cell_type": "code",
   "execution_count": 1,
   "id": "a55eef8b",
   "metadata": {},
   "outputs": [],
   "source": [
    "a=1331"
   ]
  },
  {
   "cell_type": "code",
   "execution_count": 2,
   "id": "8b303177",
   "metadata": {},
   "outputs": [
    {
     "data": {
      "text/plain": [
       "221.83333333333334"
      ]
     },
     "execution_count": 2,
     "metadata": {},
     "output_type": "execute_result"
    }
   ],
   "source": [
    "a/6"
   ]
  },
  {
   "cell_type": "code",
   "execution_count": 3,
   "id": "bb5f1160",
   "metadata": {},
   "outputs": [],
   "source": [
    "mylist=[1,2,3]"
   ]
  },
  {
   "cell_type": "code",
   "execution_count": 4,
   "id": "24e01055",
   "metadata": {},
   "outputs": [],
   "source": [
    "mylist.append(4)"
   ]
  },
  {
   "cell_type": "code",
   "execution_count": 5,
   "id": "6123226f",
   "metadata": {},
   "outputs": [
    {
     "data": {
      "text/plain": [
       "2"
      ]
     },
     "execution_count": 5,
     "metadata": {},
     "output_type": "execute_result"
    }
   ],
   "source": [
    "mylist.pop(1)"
   ]
  },
  {
   "cell_type": "code",
   "execution_count": 6,
   "id": "cd066040",
   "metadata": {},
   "outputs": [
    {
     "data": {
      "text/plain": [
       "[1, 3, 4]"
      ]
     },
     "execution_count": 6,
     "metadata": {},
     "output_type": "execute_result"
    }
   ],
   "source": [
    "mylist"
   ]
  },
  {
   "cell_type": "code",
   "execution_count": 7,
   "id": "311e02a2",
   "metadata": {},
   "outputs": [],
   "source": [
    "mylist.extend(\"2\")"
   ]
  },
  {
   "cell_type": "code",
   "execution_count": 8,
   "id": "621aba25",
   "metadata": {},
   "outputs": [
    {
     "data": {
      "text/plain": [
       "[1, 3, 4, '2']"
      ]
     },
     "execution_count": 8,
     "metadata": {},
     "output_type": "execute_result"
    }
   ],
   "source": [
    "mylist"
   ]
  },
  {
   "cell_type": "code",
   "execution_count": 9,
   "id": "be944b2a",
   "metadata": {},
   "outputs": [],
   "source": [
    "mylist.insert(2,5)"
   ]
  },
  {
   "cell_type": "code",
   "execution_count": 10,
   "id": "25889c6d",
   "metadata": {},
   "outputs": [
    {
     "name": "stdout",
     "output_type": "stream",
     "text": [
      "Help on built-in function insert:\n",
      "\n",
      "insert(index, object, /) method of builtins.list instance\n",
      "    Insert object before index.\n",
      "\n"
     ]
    }
   ],
   "source": [
    "help(mylist.insert)"
   ]
  },
  {
   "cell_type": "code",
   "execution_count": 11,
   "id": "f3434ac8",
   "metadata": {},
   "outputs": [],
   "source": [
    "t=[1,2,3,3,4]"
   ]
  },
  {
   "cell_type": "code",
   "execution_count": 12,
   "id": "ec1af98e",
   "metadata": {},
   "outputs": [
    {
     "data": {
      "text/plain": [
       "{1, 2, 3, 4}"
      ]
     },
     "execution_count": 12,
     "metadata": {},
     "output_type": "execute_result"
    }
   ],
   "source": [
    "set(t)"
   ]
  },
  {
   "cell_type": "code",
   "execution_count": 13,
   "id": "10484acc",
   "metadata": {},
   "outputs": [
    {
     "data": {
      "text/plain": [
       "3"
      ]
     },
     "execution_count": 13,
     "metadata": {},
     "output_type": "execute_result"
    }
   ],
   "source": [
    "t[3]"
   ]
  },
  {
   "cell_type": "code",
   "execution_count": 14,
   "id": "906c11cc",
   "metadata": {},
   "outputs": [
    {
     "data": {
      "text/plain": [
       "True"
      ]
     },
     "execution_count": 14,
     "metadata": {},
     "output_type": "execute_result"
    }
   ],
   "source": [
    "3 in t"
   ]
  },
  {
   "cell_type": "code",
   "execution_count": 15,
   "id": "65f96c07",
   "metadata": {},
   "outputs": [
    {
     "data": {
      "text/plain": [
       "12"
      ]
     },
     "execution_count": 15,
     "metadata": {},
     "output_type": "execute_result"
    }
   ],
   "source": [
    "2*3\n",
    "4*3\n"
   ]
  },
  {
   "cell_type": "code",
   "execution_count": 16,
   "id": "241cdab7",
   "metadata": {},
   "outputs": [],
   "source": [
    "def multi(s1,s2,s3):\n",
    "    '''\n",
    "    calculations\n",
    "    '''\n",
    "    a=s1+s2\n",
    "    b=a/s3\n",
    "    c=b+(s1/s2)\n",
    "    d=((c*b)/a)+(8/(s1+a))\n",
    "    return d"
   ]
  },
  {
   "cell_type": "code",
   "execution_count": 17,
   "id": "4f2bf487",
   "metadata": {},
   "outputs": [],
   "source": [
    "s=multi(1,2,3)"
   ]
  },
  {
   "cell_type": "code",
   "execution_count": 18,
   "id": "8ff5e187",
   "metadata": {},
   "outputs": [
    {
     "data": {
      "text/plain": [
       "2.5"
      ]
     },
     "execution_count": 18,
     "metadata": {},
     "output_type": "execute_result"
    }
   ],
   "source": [
    "s"
   ]
  },
  {
   "cell_type": "code",
   "execution_count": 19,
   "id": "4fd02323",
   "metadata": {},
   "outputs": [],
   "source": [
    "def tool(s1,s2,s3,s4):\n",
    "    return (s1+s2)/(s3+s4)"
   ]
  },
  {
   "cell_type": "code",
   "execution_count": 20,
   "id": "4ea9453e",
   "metadata": {},
   "outputs": [
    {
     "data": {
      "text/plain": [
       "0.42857142857142855"
      ]
     },
     "execution_count": 20,
     "metadata": {},
     "output_type": "execute_result"
    }
   ],
   "source": [
    "tool(1,2,3,4)"
   ]
  },
  {
   "cell_type": "code",
   "execution_count": 21,
   "id": "7d09f6bd",
   "metadata": {},
   "outputs": [],
   "source": [
    "def say_hello():\n",
    "    return \"hello\""
   ]
  },
  {
   "cell_type": "code",
   "execution_count": 22,
   "id": "62d0cbd7",
   "metadata": {},
   "outputs": [
    {
     "data": {
      "text/plain": [
       "<function __main__.say_hello()>"
      ]
     },
     "execution_count": 22,
     "metadata": {},
     "output_type": "execute_result"
    }
   ],
   "source": [
    "say_hello"
   ]
  },
  {
   "cell_type": "code",
   "execution_count": 23,
   "id": "7340b7af",
   "metadata": {},
   "outputs": [],
   "source": [
    "def say_hello(name='Lola'):\n",
    "    return f'Hello {name}'"
   ]
  },
  {
   "cell_type": "code",
   "execution_count": 24,
   "id": "a54783d8",
   "metadata": {},
   "outputs": [
    {
     "data": {
      "text/plain": [
       "'Hello Lola'"
      ]
     },
     "execution_count": 24,
     "metadata": {},
     "output_type": "execute_result"
    }
   ],
   "source": [
    "say_hello()"
   ]
  },
  {
   "cell_type": "code",
   "execution_count": 25,
   "id": "652a5e1e",
   "metadata": {},
   "outputs": [
    {
     "data": {
      "text/plain": [
       "'Hello jose'"
      ]
     },
     "execution_count": 25,
     "metadata": {},
     "output_type": "execute_result"
    }
   ],
   "source": [
    "say_hello(\"jose\")"
   ]
  },
  {
   "cell_type": "code",
   "execution_count": 26,
   "id": "82e460d7",
   "metadata": {},
   "outputs": [],
   "source": [
    "def add(num1,num2):\n",
    "    return num1+num2"
   ]
  },
  {
   "cell_type": "code",
   "execution_count": 27,
   "id": "c0857db8",
   "metadata": {},
   "outputs": [],
   "source": [
    "a=add(9,8)"
   ]
  },
  {
   "cell_type": "code",
   "execution_count": 28,
   "id": "41ac2c10",
   "metadata": {},
   "outputs": [],
   "source": [
    "def super(s1):\n",
    "    print(s1)"
   ]
  },
  {
   "cell_type": "code",
   "execution_count": 29,
   "id": "4938b34c",
   "metadata": {},
   "outputs": [
    {
     "name": "stdout",
     "output_type": "stream",
     "text": [
      "9\n"
     ]
    }
   ],
   "source": [
    "a=super(9)"
   ]
  },
  {
   "cell_type": "code",
   "execution_count": 30,
   "id": "52103475",
   "metadata": {},
   "outputs": [],
   "source": [
    "a"
   ]
  },
  {
   "cell_type": "code",
   "execution_count": 31,
   "id": "2f8055bc",
   "metadata": {},
   "outputs": [
    {
     "data": {
      "text/plain": [
       "NoneType"
      ]
     },
     "execution_count": 31,
     "metadata": {},
     "output_type": "execute_result"
    }
   ],
   "source": [
    "type(a)"
   ]
  },
  {
   "cell_type": "code",
   "execution_count": 32,
   "id": "fecac7be",
   "metadata": {},
   "outputs": [],
   "source": [
    "a=add(10,20)"
   ]
  },
  {
   "cell_type": "code",
   "execution_count": 33,
   "id": "fb5cf410",
   "metadata": {},
   "outputs": [
    {
     "data": {
      "text/plain": [
       "30"
      ]
     },
     "execution_count": 33,
     "metadata": {},
     "output_type": "execute_result"
    }
   ],
   "source": [
    "a"
   ]
  },
  {
   "cell_type": "code",
   "execution_count": 34,
   "id": "7ecd1065",
   "metadata": {},
   "outputs": [],
   "source": [
    "def myfunc(a,b):\n",
    "    print(a+b)\n",
    "    return a+b"
   ]
  },
  {
   "cell_type": "code",
   "execution_count": 35,
   "id": "28ef468d",
   "metadata": {},
   "outputs": [
    {
     "name": "stdout",
     "output_type": "stream",
     "text": [
      "13\n"
     ]
    }
   ],
   "source": [
    "result = myfunc(9,4)"
   ]
  },
  {
   "cell_type": "code",
   "execution_count": 36,
   "id": "4aa1aee3",
   "metadata": {},
   "outputs": [
    {
     "data": {
      "text/plain": [
       "13"
      ]
     },
     "execution_count": 36,
     "metadata": {},
     "output_type": "execute_result"
    }
   ],
   "source": [
    "result"
   ]
  },
  {
   "cell_type": "code",
   "execution_count": 37,
   "id": "342dbff7",
   "metadata": {},
   "outputs": [
    {
     "name": "stdout",
     "output_type": "stream",
     "text": [
      "18\n"
     ]
    },
    {
     "data": {
      "text/plain": [
       "18"
      ]
     },
     "execution_count": 37,
     "metadata": {},
     "output_type": "execute_result"
    }
   ],
   "source": [
    "myfunc(9,9)"
   ]
  },
  {
   "cell_type": "code",
   "execution_count": 38,
   "id": "eb8c8885",
   "metadata": {},
   "outputs": [],
   "source": [
    "def sum_numbers(num1=\"i\",num2=\"i\"):\n",
    "    if type(num1)==int and type(num2)==int:\n",
    "        return num1+num2\n",
    "    else:\n",
    "        return \"This requires numbers\""
   ]
  },
  {
   "cell_type": "code",
   "execution_count": 39,
   "id": "02c20739",
   "metadata": {},
   "outputs": [
    {
     "data": {
      "text/plain": [
       "'This requires numbers'"
      ]
     },
     "execution_count": 39,
     "metadata": {},
     "output_type": "execute_result"
    }
   ],
   "source": [
    "sum_numbers(1)"
   ]
  },
  {
   "cell_type": "code",
   "execution_count": 40,
   "id": "24f6d84e",
   "metadata": {},
   "outputs": [
    {
     "data": {
      "text/plain": [
       "1"
      ]
     },
     "execution_count": 40,
     "metadata": {},
     "output_type": "execute_result"
    }
   ],
   "source": [
    "0 or 1"
   ]
  },
  {
   "cell_type": "code",
   "execution_count": 41,
   "id": "b265e0b5",
   "metadata": {},
   "outputs": [
    {
     "data": {
      "text/plain": [
       "2"
      ]
     },
     "execution_count": 41,
     "metadata": {},
     "output_type": "execute_result"
    }
   ],
   "source": [
    "0 or 2"
   ]
  },
  {
   "cell_type": "code",
   "execution_count": 42,
   "id": "c19c9eee",
   "metadata": {},
   "outputs": [
    {
     "data": {
      "text/plain": [
       "0"
      ]
     },
     "execution_count": 42,
     "metadata": {},
     "output_type": "execute_result"
    }
   ],
   "source": [
    "2%2"
   ]
  },
  {
   "cell_type": "code",
   "execution_count": 43,
   "id": "e2d67cce",
   "metadata": {},
   "outputs": [
    {
     "data": {
      "text/plain": [
       "1"
      ]
     },
     "execution_count": 43,
     "metadata": {},
     "output_type": "execute_result"
    }
   ],
   "source": [
    "3%2"
   ]
  },
  {
   "cell_type": "code",
   "execution_count": 44,
   "id": "d82d3899",
   "metadata": {},
   "outputs": [
    {
     "data": {
      "text/plain": [
       "1"
      ]
     },
     "execution_count": 44,
     "metadata": {},
     "output_type": "execute_result"
    }
   ],
   "source": [
    "41%40"
   ]
  },
  {
   "cell_type": "code",
   "execution_count": 45,
   "id": "b76c7b15",
   "metadata": {},
   "outputs": [],
   "source": [
    "def even(s1=0):\n",
    "    if s1 % 2==0 and s1!=0:\n",
    "        return \"EVEN!!!\"\n",
    "    elif s1!=0:\n",
    "        return \"Odd.\"\n",
    "    else:\n",
    "        return \"Type a value\""
   ]
  },
  {
   "cell_type": "code",
   "execution_count": 46,
   "id": "bf15ce80",
   "metadata": {},
   "outputs": [
    {
     "data": {
      "text/plain": [
       "'EVEN!!!'"
      ]
     },
     "execution_count": 46,
     "metadata": {},
     "output_type": "execute_result"
    }
   ],
   "source": [
    "even(90)"
   ]
  },
  {
   "cell_type": "code",
   "execution_count": 47,
   "id": "37106b4b",
   "metadata": {},
   "outputs": [],
   "source": [
    "if 2%1:\n",
    "    print(9)"
   ]
  },
  {
   "cell_type": "code",
   "execution_count": 54,
   "id": "25185cb1",
   "metadata": {},
   "outputs": [],
   "source": [
    "list1=[7,5]\n",
    "def check(num_list):\n",
    "    for number in num_list:\n",
    "        if number % 2 == 0:\n",
    "            return True\n",
    "            break\n",
    "    return False    "
   ]
  },
  {
   "cell_type": "code",
   "execution_count": 55,
   "id": "1256aa2f",
   "metadata": {},
   "outputs": [
    {
     "data": {
      "text/plain": [
       "False"
      ]
     },
     "execution_count": 55,
     "metadata": {},
     "output_type": "execute_result"
    }
   ],
   "source": [
    "check([1,3])"
   ]
  },
  {
   "cell_type": "code",
   "execution_count": 56,
   "id": "8e2c802c",
   "metadata": {},
   "outputs": [
    {
     "data": {
      "text/plain": [
       "True"
      ]
     },
     "execution_count": 56,
     "metadata": {},
     "output_type": "execute_result"
    }
   ],
   "source": [
    "check([4,5])"
   ]
  },
  {
   "cell_type": "code",
   "execution_count": 57,
   "id": "cd74df40",
   "metadata": {},
   "outputs": [
    {
     "data": {
      "text/plain": [
       "True"
      ]
     },
     "execution_count": 57,
     "metadata": {},
     "output_type": "execute_result"
    }
   ],
   "source": [
    "check([1,2,4,53,45,34,53,45,34,5,345,34,5,4,35,45,34,5,345,34,5,344,5,4,34,53,4,53,45,4,34,5,43,534,5,34,5,43,34,53,43,45,3,45,4,54,3,45,3,45,4,34,5])"
   ]
  },
  {
   "cell_type": "code",
   "execution_count": 58,
   "id": "710ceaf5",
   "metadata": {},
   "outputs": [
    {
     "data": {
      "text/plain": [
       "True"
      ]
     },
     "execution_count": 58,
     "metadata": {},
     "output_type": "execute_result"
    }
   ],
   "source": [
    "check([1,3,5,7,9,2])"
   ]
  },
  {
   "cell_type": "code",
   "execution_count": 59,
   "id": "18d3b379",
   "metadata": {},
   "outputs": [],
   "source": [
    "#make function\n",
    "def check(num_list):\n",
    "    #placeholder\n",
    "    even_numbers=[]\n",
    "    #get numbers\n",
    "    for number in num_list:\n",
    "        #check for even\n",
    "        if number % 2 == 0:\n",
    "            #add numbers\n",
    "            even_numbers.append(number)\n",
    "    #return evens\n",
    "    return even_numbers \n",
    "#testing function\n",
    "print(check([8,1,0,4,2,6,45,7,]))"
   ]
  },
  {
   "cell_type": "code",
   "execution_count": 60,
   "id": "423dbc24",
   "metadata": {},
   "outputs": [
    {
     "data": {
      "text/plain": [
       "[4, 6]"
      ]
     },
     "execution_count": 60,
     "metadata": {},
     "output_type": "execute_result"
    }
   ],
   "source": [
    "check([9,7,4,6])"
   ]
  },
  {
   "cell_type": "code",
   "execution_count": null,
   "id": "f637e136",
   "metadata": {},
   "outputs": [],
   "source": []
  }
 ],
 "metadata": {
  "kernelspec": {
   "display_name": "Python 3 (ipykernel)",
   "language": "python",
   "name": "python3"
  },
  "language_info": {
   "codemirror_mode": {
    "name": "ipython",
    "version": 3
   },
   "file_extension": ".py",
   "mimetype": "text/x-python",
   "name": "python",
   "nbconvert_exporter": "python",
   "pygments_lexer": "ipython3",
   "version": "3.9.12"
  }
 },
 "nbformat": 4,
 "nbformat_minor": 5
}
